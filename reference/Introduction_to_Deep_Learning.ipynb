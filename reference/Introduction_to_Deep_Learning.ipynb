{
  "nbformat": 4,
  "nbformat_minor": 0,
  "metadata": {
    "colab": {
      "name": "Introduction to Deep Learning.ipynb",
      "provenance": [],
      "collapsed_sections": []
    },
    "kernelspec": {
      "name": "python3",
      "display_name": "Python 3"
    },
    "language_info": {
      "name": "python"
    },
    "accelerator": "GPU"
  },
  "cells": [
    {
      "cell_type": "markdown",
      "metadata": {
        "id": "zC0JKhVQyGWg"
      },
      "source": [
        "#Introduction to Deep Learning"
      ]
    },
    {
      "cell_type": "markdown",
      "metadata": {
        "id": "Qh4fYGeaybDv"
      },
      "source": [
        "##Neural network from scratch"
      ]
    },
    {
      "cell_type": "markdown",
      "metadata": {
        "id": "yBu2mW7Fyj2u"
      },
      "source": [
        "###Let's import the libraries"
      ]
    },
    {
      "cell_type": "code",
      "metadata": {
        "colab": {
          "base_uri": "https://localhost:8080/"
        },
        "id": "anDTL37dyCbU",
        "outputId": "82a62dc1-5e58-46c5-859a-0e04bb54b679"
      },
      "source": [
        "%matplotlib inline\n",
        "import numpy as np\n",
        "import matplotlib.pyplot as plt\n",
        "import matplotlib\n",
        "print(\"Version of numpy:\", np.__version__)\n",
        "print(\"Version of matplotlib:\", matplotlib.__version__)"
      ],
      "execution_count": null,
      "outputs": [
        {
          "output_type": "stream",
          "text": [
            "Version of numpy: 1.19.5\n",
            "Version of matplotlib: 3.2.2\n"
          ],
          "name": "stdout"
        }
      ]
    },
    {
      "cell_type": "markdown",
      "metadata": {
        "id": "s3qSwi6cyvC-"
      },
      "source": [
        "####%matplotlib inline\n",
        "%matplotlib inline is an example of a predefined magic function in Ipython. They are frequently used in interactive environments like jupyter notebook.\n",
        "\n",
        "%matplotlib inline makes your plot outputs appear and be stored within the notebook.\n",
        "\n",
        "####import numpy as np\n",
        "NumPy is the fundamental package for scientific computing in Python library.It is primarily used to work with arrays, and also has functions for working in domain of linear algebra, fourier transform, and matrices.\n",
        "\n",
        "####import matplotlib.pyplot as plt\n",
        "Matplotlib is a data visualisation and plotting library for python and numpy. pyplot is matplotlib's plotting framework"
      ]
    },
    {
      "cell_type": "markdown",
      "metadata": {
        "id": "JKIE_gxLzlOm"
      },
      "source": [
        "###Let's import the dataset, and store the input and output"
      ]
    },
    {
      "cell_type": "code",
      "metadata": {
        "id": "qlnnSYYEz-OX"
      },
      "source": [
        "from sklearn.datasets import make_moons\n",
        "\n",
        "X, y = make_moons(n_samples=1000, random_state=42, noise=0.1)"
      ],
      "execution_count": null,
      "outputs": []
    },
    {
      "cell_type": "code",
      "metadata": {
        "colab": {
          "base_uri": "https://localhost:8080/"
        },
        "id": "wCuELTkM3RUW",
        "outputId": "13898e6d-8e46-4771-ef72-e08b7e92f024"
      },
      "source": [
        "X"
      ],
      "execution_count": null,
      "outputs": [
        {
          "output_type": "execute_result",
          "data": {
            "text/plain": [
              "array([[-0.05146968,  0.44419863],\n",
              "       [ 1.03201691, -0.41974116],\n",
              "       [ 0.86789186, -0.25482711],\n",
              "       ...,\n",
              "       [ 1.68425911, -0.34822268],\n",
              "       [-0.9672013 ,  0.26367208],\n",
              "       [ 0.78758971,  0.61660945]])"
            ]
          },
          "metadata": {
            "tags": []
          },
          "execution_count": 43
        }
      ]
    },
    {
      "cell_type": "code",
      "metadata": {
        "colab": {
          "base_uri": "https://localhost:8080/"
        },
        "id": "-P2oOrOw3S29",
        "outputId": "b6d08bb7-7ee8-4cd9-94ef-e841fed28bad"
      },
      "source": [
        "y[0:5]"
      ],
      "execution_count": null,
      "outputs": [
        {
          "output_type": "execute_result",
          "data": {
            "text/plain": [
              "array([1, 1, 1, 1, 0])"
            ]
          },
          "metadata": {
            "tags": []
          },
          "execution_count": 44
        }
      ]
    },
    {
      "cell_type": "markdown",
      "metadata": {
        "id": "X2TlowKC0FTI"
      },
      "source": [
        "####sklearn.datasets\n",
        "The scikit-learn library provides a set of sample datasets, and the make_moons() function will generate a swirl pattern. "
      ]
    },
    {
      "cell_type": "markdown",
      "metadata": {
        "id": "lZQCzqNH2tPM"
      },
      "source": [
        "###Let's visualise the data"
      ]
    },
    {
      "cell_type": "code",
      "metadata": {
        "colab": {
          "base_uri": "https://localhost:8080/",
          "height": 282
        },
        "id": "QU-KklR_2r2C",
        "outputId": "ea654946-8553-403c-d31a-fe3b1c1b7c3e"
      },
      "source": [
        "plt.scatter(X[:, 0], X[:, 1], s=10, c=y)"
      ],
      "execution_count": null,
      "outputs": [
        {
          "output_type": "execute_result",
          "data": {
            "text/plain": [
              "<matplotlib.collections.PathCollection at 0x7f265d07d250>"
            ]
          },
          "metadata": {
            "tags": []
          },
          "execution_count": 45
        },
        {
          "output_type": "display_data",
          "data": {
            "image/png": "[encoded data removed]",
            "text/plain": [
              "<Figure size 432x288 with 1 Axes>"
            ]
          },
          "metadata": {
            "tags": [],
            "needs_background": "light"
          }
        }
      ]
    },
    {
      "cell_type": "markdown",
      "metadata": {
        "id": "f13wcuvD219F"
      },
      "source": [
        "####plt.scatter()\n",
        "this is used to draw a scatter plot with varying size and/or color"
      ]
    },
    {
      "cell_type": "markdown",
      "metadata": {
        "id": "catWwdD564x5"
      },
      "source": [
        "###Let's normalize the inputs\n"
      ]
    },
    {
      "cell_type": "markdown",
      "metadata": {
        "id": "JflEY7M47IQ3"
      },
      "source": [
        "### Why normalize?\n",
        "The goal of normalization is to change the values of numeric columns in the dataset to a common scale, without distorting differences in the ranges of values. "
      ]
    },
    {
      "cell_type": "code",
      "metadata": {
        "id": "p76oy6AC7Ehn"
      },
      "source": [
        "X -= X.min()\n",
        "X /= X.max()"
      ],
      "execution_count": null,
      "outputs": []
    },
    {
      "cell_type": "code",
      "metadata": {
        "colab": {
          "base_uri": "https://localhost:8080/"
        },
        "id": "lwl51cfA7GOa",
        "outputId": "62e9926f-7e90-450c-b11a-1652a797e388"
      },
      "source": [
        "X.min(), X.max()"
      ],
      "execution_count": null,
      "outputs": [
        {
          "output_type": "execute_result",
          "data": {
            "text/plain": [
              "(0.0, 1.0)"
            ]
          },
          "metadata": {
            "tags": []
          },
          "execution_count": 47
        }
      ]
    },
    {
      "cell_type": "code",
      "metadata": {
        "id": "oZQbk-4i-Cz3",
        "colab": {
          "base_uri": "https://localhost:8080/"
        },
        "outputId": "e0e94617-9e32-4977-ec85-86cfc16de2b5"
      },
      "source": [
        "np.unique(y)"
      ],
      "execution_count": null,
      "outputs": [
        {
          "output_type": "execute_result",
          "data": {
            "text/plain": [
              "array([0, 1])"
            ]
          },
          "metadata": {
            "tags": []
          },
          "execution_count": 48
        }
      ]
    },
    {
      "cell_type": "markdown",
      "metadata": {
        "id": "od9jolhu8WfI"
      },
      "source": [
        "####np.unique()\n",
        "this is just to get the unique values from an array"
      ]
    },
    {
      "cell_type": "code",
      "metadata": {
        "colab": {
          "base_uri": "https://localhost:8080/"
        },
        "id": "9kX8aU2f-IfP",
        "outputId": "3186e266-30d7-4341-9159-6d9591e55b87"
      },
      "source": [
        "X.shape, y.shape"
      ],
      "execution_count": null,
      "outputs": [
        {
          "output_type": "execute_result",
          "data": {
            "text/plain": [
              "((1000, 2), (1000,))"
            ]
          },
          "metadata": {
            "tags": []
          },
          "execution_count": 49
        }
      ]
    },
    {
      "cell_type": "code",
      "metadata": {
        "id": "_KzK88LF-MNm"
      },
      "source": [
        "X = X.T\n",
        "\n",
        "y = y.reshape(1, -1)"
      ],
      "execution_count": null,
      "outputs": []
    },
    {
      "cell_type": "markdown",
      "metadata": {
        "id": "-SZNTZQ0-OKV"
      },
      "source": [
        "####y.reshape(1, -1)\n",
        "-1 simply means it is an unknown dimension, and we want the function to figure it out."
      ]
    },
    {
      "cell_type": "code",
      "metadata": {
        "id": "3GU7WdGX-t1G",
        "colab": {
          "base_uri": "https://localhost:8080/"
        },
        "outputId": "b10517b9-dfe4-49a2-c306-1c21bd7b4cb5"
      },
      "source": [
        "X.shape, y.shape"
      ],
      "execution_count": null,
      "outputs": [
        {
          "output_type": "execute_result",
          "data": {
            "text/plain": [
              "((2, 1000), (1, 1000))"
            ]
          },
          "metadata": {
            "tags": []
          },
          "execution_count": 51
        }
      ]
    },
    {
      "cell_type": "markdown",
      "metadata": {
        "id": "4-LbaD3--xRa"
      },
      "source": [
        "###Let's define the sigmoid function"
      ]
    },
    {
      "cell_type": "code",
      "metadata": {
        "id": "Pok-u0LX-wCd"
      },
      "source": [
        "def sigmoid (x):\n",
        "    return 1/(1 + np.exp(-x))"
      ],
      "execution_count": null,
      "outputs": []
    },
    {
      "cell_type": "markdown",
      "metadata": {
        "id": "07rSAtov_DEv"
      },
      "source": [
        "###Let's define the model architecture"
      ]
    },
    {
      "cell_type": "code",
      "metadata": {
        "id": "_k9JAYRL-4wU"
      },
      "source": [
        "inputLayer_neurons = X.shape[0]\n",
        "hiddenLayer_neurons = 10\n",
        "outputLayer_neurons = 1"
      ],
      "execution_count": null,
      "outputs": []
    },
    {
      "cell_type": "markdown",
      "metadata": {
        "id": "cHkc9nF__LSO"
      },
      "source": [
        "###Let's initialise the weights and define the parameters"
      ]
    },
    {
      "cell_type": "code",
      "metadata": {
        "id": "TjKJqR5Y_Kk_"
      },
      "source": [
        "weights_input_hidden = np.random.uniform(size=(inputLayer_neurons, hiddenLayer_neurons))\n",
        "weights_hidden_output = np.random.uniform(\n",
        "    size=(hiddenLayer_neurons, outputLayer_neurons)\n",
        ")"
      ],
      "execution_count": null,
      "outputs": []
    },
    {
      "cell_type": "code",
      "metadata": {
        "id": "ln7lvSSp_ldc"
      },
      "source": [
        "lr = 0.1\n",
        "epochs = 10000\n",
        "losses=[]"
      ],
      "execution_count": null,
      "outputs": []
    },
    {
      "cell_type": "markdown",
      "metadata": {
        "id": "HLvZnwkl_8Nj"
      },
      "source": [
        "###Forward propagation"
      ]
    },
    {
      "cell_type": "markdown",
      "metadata": {
        "id": "C8E4j_QSf3NS"
      },
      "source": [
        "![image.png](data:image/png;base64,iVBORw0KGgoAAAANSUhEUgAAAOAAAAA1CAYAAABY3ud9AAAHMUlEQVR4Ae2az00zPRDG6QA6gA6gA+gAOqAEGkCCC2c4cOfMCTqADiiBEighn36R5tXsMI53Ezu76HssRbs7nsyfx/OMnYWDlYYQEAKzIXAwm2c5FgJCYCUCqgiEwIwIiIAzgi/XQkAEVA0IgRkREAFnBF+uhYAIqBoQAjMiIALOCL5cCwERUDUgBGZEQAScEXy5FgIioGpACMyIgAg4I/hyLQREQNWAEJgRgcUQ8O7ubsXn+/s7hQM58y8vL+n80oWWXynOj4+PJvmZH+zNNYjh/Px8LvepX+qGuDbhYtilBjoJF0PACMzPz88asKOjo0HqUW8wueCHGLfld3p6Oog66g0mRzxQRHFgE0L0aF7Yvri4iC7Xa/dLOKMgwxU8jo+PB6TM9HqGvVgCkjQAxU66b4BagZ/F/fj4uLq+vh64yPQGCpWHjIB85eDgoHi6qJgsThMr/rAdRymOqLev5wxXTlWHh4eDEDK9gULjh9/INXYw1lyWOMVJkfqR6fn5pd5ncV9eXv7alTK9KTllhY/NuNNOsblJF9t/lYA0eNbAj13x97bG3C+agBwPvr6+BnnsG6CB8x0esrizXSnTm+I2IyCym5ubKWZG6xLvXyXgEhr8YgmYHQ+oil0LdHRlNVaMcfOc7UpRrxQGvyH5xJERkGP829tbVG3yTLxLICD18vn5WayPDNclNPhuBGR758e5fejAFId1Y5MDHCMClB0PMr0mVVQwQmzEa7ESE0WPnKNxlGPGf4ecjSQxP8Mhuo56cd6esR2P58xhNw4IYnHEOZ6fn583fl5fX7OvrWXEOzcBiYEmQxwl/KKcdYq//0go6hUTbzTRjYB0dwokLjzPZ2dna7B8AcXEs+PBHACxUCxsfBlEHshPTk5+LQW50F197jG/0q4U9X4ZX63Wx3J8Z8fKSEB2vmyn9XYfHh5Wt7e3xc/SCUgu5A0mpRFxpfbi7z++G/VK9lrJyxHv4IHCi4Vg5iAWQHH1IyZOd4q//9CPet5Gr/sS0ZBni07u7JZ+xLj5nieo6UY9k/srhcP3Y1NAJ+IOSTOienu73BNvCYMpdsFrlzhpMhmhLIaIK7p2ojEdrlHPz/W470JAAs2Ki67DYgFWnPeJQzw7n0cSer0egGQ27Xjj52xnjMVHXtmO4+PmHh1sTM2PHc26ffwbKfFFAuIHf0v/DUjcWUPxmJfuwZx18CeqqOvxZ84afMQl6kU7rZ+7ETAGSqEBEolTeHH4xJlnMbzM9DOZzfW6GgF902AHp0mQk8+HQoq7H3H5uNGnA8fFj3pZPlakWUzoRwLyHGWZ3W1k4EGu2I+5TPWJvuU2NRZ8sw7UGNje39+vPx5zf4998M8IG/WmxjJVfy8EZKHo1oBUSrAkjwnV9FhIW4DaNSNK9MczRyMfO4sMAaOcPLPdDxu1uM3vJj1f6HaUj/pTC9/8tr5OjQP9bQlozRACcs+6sg5+zSJOpXzH6pW+P1W+FwIaGFnHsYDHJl7TYxHHfsb+5qA4/GKyyJAwyrEXd4JW+UFu/xvHfEdMkS9hTI0D/W0JyEkEbPx6UiesmcVRqxvDbKye6e967U5A69RcNw2AYseisLNhR4uxu1ZmY1uZHXGIkTisUCh+W2Qvz/xYftkcMhae/Ev5Gent+1ZgvuiYMz/7LiSLy2LgTzSlQY7xdII+b5SjnOdNA9xZg3jyMHzAg2E+N+GCrulv8tlyrisBSdrAoYP/1eEXEyLYIpbkrfPEDwUWd3awtWbQ2mdPezSNmAu7GO8HoryWn9WYrYnFbfL4ksvml3LtRkD/0iUjH7JMviswtgNknTTKWKQxgzitkfiCMAJa0YyxtY0Ox6sMK2LK3oRu42Pu77BuHtux8YAN5I3DGlaUL+25CwEpFnvpUupAdMGsqHYFyMgw5hqPb5t8U+x8YqctyTfZmjJHkygdi+y3dQ8cp8TYQndbArJrxnXkp4H9maFFbD1tdCGgFUZph0HuXyj0TLCVbbps1qEhYCZv4dcaWYlg+M2aQgvf+7axDQHtlOXrDBlrVWr8+86r5q85Ae2lCztgPPJdXV39+zc0D1otyCXMU+xx9yMumk0m3zVmXi7Yv+y9v78PTgsQEhkvLSAgLzD+SsGVcNmGgODOTkedkf/T09O6sYPdXxnNCQgoYz6lrr5U4Ep/XijJd82DIvI4ery493Pc/x8JCMYei79EPKuP5gQ0w7oKASFQR0AErGMkDSHQDQERsBu0MiwE6giIgHWMpCEEuiEgAnaDVoaFQB0BEbCOkTSEQDcERMBu0MqwEKgjIALWMZKGEOiGgAjYDVoZFgJ1BETAOkbSEALdEBABu0Erw0KgjoAIWMdIGkKgGwIiYDdoZVgI1BEQAesYSUMIdENABOwGrQwLgToCImAdI2kIgW4IiIDdoJVhIVBHQASsYyQNIdANARGwG7QyLATqCIiAdYykIQS6IfAfffCb49/BZ9MAAAAASUVORK5CYII=)"
      ]
    },
    {
      "cell_type": "markdown",
      "metadata": {
        "id": "GkvpCJUtf67O"
      },
      "source": [
        "![image.png](data:image/png;base64,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)"
      ]
    },
    {
      "cell_type": "code",
      "metadata": {
        "id": "dL-seuw0_7mL"
      },
      "source": [
        "hiddenLayer_linearTransform = np.dot(weights_input_hidden.T, X)\n",
        "hiddenLayer_activations = sigmoid(hiddenLayer_linearTransform)\n",
        "\n",
        "\n",
        "outputLayer_linearTransform = np.dot(weights_hidden_output.T, hiddenLayer_activations)\n",
        "output = sigmoid(outputLayer_linearTransform)"
      ],
      "execution_count": null,
      "outputs": []
    },
    {
      "cell_type": "markdown",
      "metadata": {
        "id": "Qv6BcTZFBJLC"
      },
      "source": [
        "Calculating the error"
      ]
    },
    {
      "cell_type": "code",
      "metadata": {
        "id": "4BHbbYDeBG5a"
      },
      "source": [
        "error = np.square(y - output) / 2"
      ],
      "execution_count": null,
      "outputs": []
    },
    {
      "cell_type": "markdown",
      "metadata": {
        "id": "hT2cocpqBCd9"
      },
      "source": [
        "###Back propagation"
      ]
    },
    {
      "cell_type": "markdown",
      "metadata": {
        "id": "HdZoDFAmBQPM"
      },
      "source": [
        "Calculating the change of error with respect to weight between hidden and output layer"
      ]
    },
    {
      "cell_type": "code",
      "metadata": {
        "id": "N61tS1IlA_nS"
      },
      "source": [
        "error_wrt_output = -(y - output)\n",
        "output_wrt_outputLayer_LinearTransform = np.multiply(output, (1 - output))\n",
        "outputLayer_LinearTransform_wrt_weights_hidden_output = hiddenLayer_activations\n",
        "\n",
        "error_wrt_weights_hidden_output = np.dot(\n",
        "outputLayer_LinearTransform_wrt_weights_hidden_output,\n",
        "(error_wrt_output * output_wrt_outputLayer_LinearTransform).T)"
      ],
      "execution_count": null,
      "outputs": []
    },
    {
      "cell_type": "code",
      "metadata": {
        "id": "E5kSsInQeK4b"
      },
      "source": [
        "outputLayer_LinearTransform_wrt_hiddenLayer_activations = weights_hidden_output\n",
        "hiddenLayer_activations_wrt_hiddenLayer_linearTransform = np.multiply(\n",
        "hiddenLayer_activations, (1 - hiddenLayer_activations))\n",
        "hiddenLayer_linearTransform_wrt_weights_input_hidden = X\n",
        "error_wrt_weights_input_hidden = np.dot(\n",
        "hiddenLayer_linearTransform_wrt_weights_input_hidden,\n",
        "(\n",
        "hiddenLayer_activations_wrt_hiddenLayer_linearTransform\n",
        "* np.dot(\n",
        "outputLayer_LinearTransform_wrt_hiddenLayer_activations,\n",
        "(output_wrt_outputLayer_LinearTransform * error_wrt_output),\n",
        ")\n",
        ").T,\n",
        ")"
      ],
      "execution_count": null,
      "outputs": []
    },
    {
      "cell_type": "markdown",
      "metadata": {
        "id": "qzmAdqA-tc51"
      },
      "source": [
        "###Let's update the weights"
      ]
    },
    {
      "cell_type": "code",
      "metadata": {
        "id": "FOfu2WFQtjhb"
      },
      "source": [
        "weights_hidden_output = weights_hidden_output - lr * error_wrt_weights_hidden_output\n",
        "weights_input_hidden = weights_input_hidden - lr * error_wrt_weights_input_hidden\n"
      ],
      "execution_count": null,
      "outputs": []
    },
    {
      "cell_type": "markdown",
      "metadata": {
        "id": "6cvOjASJuDYT"
      },
      "source": [
        "###Now lets run it for all the epochs"
      ]
    },
    {
      "cell_type": "code",
      "metadata": {
        "colab": {
          "base_uri": "https://localhost:8080/"
        },
        "id": "A61Kw-qrt-xU",
        "outputId": "e4ee5ce9-329e-4b8e-c5e7-d297ed2b7879"
      },
      "source": [
        "for epoch in range(epochs):\n",
        "  hiddenLayer_linearTransform = np.dot(weights_input_hidden.T, X)\n",
        "  hiddenLayer_activations = sigmoid(hiddenLayer_linearTransform)\n",
        "  outputLayer_linearTransform = np.dot(weights_hidden_output.T, hiddenLayer_activations)\n",
        "  output = sigmoid(outputLayer_linearTransform)\n",
        "  error = np.square(y - output) / 2\n",
        "  error_wrt_output = -(y - output)\n",
        "  output_wrt_outputLayer_LinearTransform = np.multiply(output, (1 - output))\n",
        "  outputLayer_LinearTransform_wrt_weights_hidden_output = hiddenLayer_activations\n",
        "\n",
        "  error_wrt_weights_hidden_output = np.dot(\n",
        "  outputLayer_LinearTransform_wrt_weights_hidden_output,\n",
        "  (error_wrt_output * output_wrt_outputLayer_LinearTransform).T)\n",
        "  outputLayer_LinearTransform_wrt_hiddenLayer_activations = weights_hidden_output\n",
        "  hiddenLayer_activations_wrt_hiddenLayer_linearTransform = np.multiply(\n",
        "  hiddenLayer_activations, (1 - hiddenLayer_activations))\n",
        "  hiddenLayer_linearTransform_wrt_weights_input_hidden = X\n",
        "  error_wrt_weights_input_hidden = np.dot(\n",
        "  hiddenLayer_linearTransform_wrt_weights_input_hidden,\n",
        "  (\n",
        "  hiddenLayer_activations_wrt_hiddenLayer_linearTransform\n",
        "  * np.dot(\n",
        "  outputLayer_LinearTransform_wrt_hiddenLayer_activations,\n",
        "  (output_wrt_outputLayer_LinearTransform * error_wrt_output),\n",
        "  )\n",
        "  ).T,\n",
        "  )\n",
        "  weights_hidden_output = weights_hidden_output - lr * error_wrt_weights_hidden_output\n",
        "  weights_input_hidden = weights_input_hidden - lr * error_wrt_weights_input_hidden\n",
        "  \n",
        "  epoch_loss = np.average(error)\n",
        "  if epoch % 100 == 0:\n",
        "      print(f\"Error at epoch {epoch} is {epoch_loss:.5f}\")\n",
        "\n",
        "    \n",
        "  losses.append(epoch_loss)\n",
        "\n"
      ],
      "execution_count": null,
      "outputs": [
        {
          "output_type": "stream",
          "text": [
            "Error at epoch 0 is 0.19253\n",
            "Error at epoch 100 is 0.24998\n",
            "Error at epoch 200 is 0.24996\n",
            "Error at epoch 300 is 0.06070\n",
            "Error at epoch 400 is 0.04217\n",
            "Error at epoch 500 is 0.03792\n",
            "Error at epoch 600 is 0.03403\n",
            "Error at epoch 700 is 0.03111\n",
            "Error at epoch 800 is 0.02874\n",
            "Error at epoch 900 is 0.02652\n",
            "Error at epoch 1000 is 0.02438\n",
            "Error at epoch 1100 is 0.02235\n",
            "Error at epoch 1200 is 0.02049\n",
            "Error at epoch 1300 is 0.01882\n",
            "Error at epoch 1400 is 0.01733\n",
            "Error at epoch 1500 is 0.01602\n",
            "Error at epoch 1600 is 0.01488\n",
            "Error at epoch 1700 is 0.01390\n",
            "Error at epoch 1800 is 0.01306\n",
            "Error at epoch 1900 is 0.01236\n",
            "Error at epoch 2000 is 0.01178\n",
            "Error at epoch 2100 is 0.01128\n",
            "Error at epoch 2200 is 0.01086\n",
            "Error at epoch 2300 is 0.01050\n",
            "Error at epoch 2400 is 0.01019\n",
            "Error at epoch 2500 is 0.00989\n",
            "Error at epoch 2600 is 0.01003\n",
            "Error at epoch 2700 is 0.00893\n",
            "Error at epoch 2800 is 0.00885\n",
            "Error at epoch 2900 is 0.00878\n",
            "Error at epoch 3000 is 0.00875\n",
            "Error at epoch 3100 is 0.00867\n",
            "Error at epoch 3200 is 0.00862\n",
            "Error at epoch 3300 is 0.00857\n",
            "Error at epoch 3400 is 0.00852\n",
            "Error at epoch 3500 is 0.00848\n",
            "Error at epoch 3600 is 0.00843\n",
            "Error at epoch 3700 is 0.00839\n",
            "Error at epoch 3800 is 0.00835\n",
            "Error at epoch 3900 is 0.00832\n",
            "Error at epoch 4000 is 0.00828\n",
            "Error at epoch 4100 is 0.00824\n",
            "Error at epoch 4200 is 0.00821\n",
            "Error at epoch 4300 is 0.00818\n",
            "Error at epoch 4400 is 0.00814\n",
            "Error at epoch 4500 is 0.00811\n",
            "Error at epoch 4600 is 0.00808\n",
            "Error at epoch 4700 is 0.00805\n",
            "Error at epoch 4800 is 0.00802\n",
            "Error at epoch 4900 is 0.00799\n",
            "Error at epoch 5000 is 0.00796\n",
            "Error at epoch 5100 is 0.00794\n",
            "Error at epoch 5200 is 0.00791\n",
            "Error at epoch 5300 is 0.00788\n",
            "Error at epoch 5400 is 0.00786\n",
            "Error at epoch 5500 is 0.00783\n",
            "Error at epoch 5600 is 0.00781\n",
            "Error at epoch 5700 is 0.00778\n",
            "Error at epoch 5800 is 0.00776\n",
            "Error at epoch 5900 is 0.00774\n",
            "Error at epoch 6000 is 0.00772\n",
            "Error at epoch 6100 is 0.00769\n",
            "Error at epoch 6200 is 0.00767\n",
            "Error at epoch 6300 is 0.00765\n",
            "Error at epoch 6400 is 0.00763\n",
            "Error at epoch 6500 is 0.00761\n",
            "Error at epoch 6600 is 0.00759\n",
            "Error at epoch 6700 is 0.00757\n",
            "Error at epoch 6800 is 0.00755\n",
            "Error at epoch 6900 is 0.00753\n",
            "Error at epoch 7000 is 0.00751\n",
            "Error at epoch 7100 is 0.00750\n",
            "Error at epoch 7200 is 0.00748\n",
            "Error at epoch 7300 is 0.00746\n",
            "Error at epoch 7400 is 0.00744\n",
            "Error at epoch 7500 is 0.00743\n",
            "Error at epoch 7600 is 0.00741\n",
            "Error at epoch 7700 is 0.00740\n",
            "Error at epoch 7800 is 0.00738\n",
            "Error at epoch 7900 is 0.00736\n",
            "Error at epoch 8000 is 0.00735\n",
            "Error at epoch 8100 is 0.00733\n",
            "Error at epoch 8200 is 0.00732\n",
            "Error at epoch 8300 is 0.00730\n",
            "Error at epoch 8400 is 0.00729\n",
            "Error at epoch 8500 is 0.00728\n",
            "Error at epoch 8600 is 0.00726\n",
            "Error at epoch 8700 is 0.00725\n",
            "Error at epoch 8800 is 0.00724\n",
            "Error at epoch 8900 is 0.00722\n",
            "Error at epoch 9000 is 0.00721\n",
            "Error at epoch 9100 is 0.00720\n",
            "Error at epoch 9200 is 0.00718\n",
            "Error at epoch 9300 is 0.00717\n",
            "Error at epoch 9400 is 0.00716\n",
            "Error at epoch 9500 is 0.00715\n",
            "Error at epoch 9600 is 0.00714\n",
            "Error at epoch 9700 is 0.00713\n",
            "Error at epoch 9800 is 0.00711\n",
            "Error at epoch 9900 is 0.00710\n"
          ],
          "name": "stdout"
        }
      ]
    },
    {
      "cell_type": "code",
      "metadata": {
        "colab": {
          "base_uri": "https://localhost:8080/",
          "height": 298
        },
        "id": "uOfTgxOiKeO0",
        "outputId": "3b793436-1c92-4a0f-ddf0-6ad7ffbe3e1f"
      },
      "source": [
        "k=[]\n",
        "for i in range(0, 10):\n",
        "  k.append(losses[1000*i])\n",
        "plt.plot(k)\n",
        "plt.xlabel(\"Epoch(at every 1000x)\")\n",
        "plt.ylabel(\"Error\")"
      ],
      "execution_count": null,
      "outputs": [
        {
          "output_type": "execute_result",
          "data": {
            "text/plain": [
              "Text(0, 0.5, 'Error')"
            ]
          },
          "metadata": {
            "tags": []
          },
          "execution_count": 62
        },
        {
          "output_type": "display_data",
          "data": {
            "image/png": "[encoded data removed]",
            "text/plain": [
              "<Figure size 432x288 with 1 Axes>"
            ]
          },
          "metadata": {
            "tags": [],
            "needs_background": "light"
          }
        }
      ]
    },
    {
      "cell_type": "markdown",
      "metadata": {
        "id": "a-Z5BvCt6eTG"
      },
      "source": [
        "##AutoGrad"
      ]
    },
    {
      "cell_type": "markdown",
      "metadata": {
        "id": "nFyyebW68vqh"
      },
      "source": [
        "Auto grad is a powerful automatic differentiation library that makes it possible to differentiate python and numpy code. "
      ]
    },
    {
      "cell_type": "code",
      "metadata": {
        "id": "IK-nupaF6guS"
      },
      "source": [
        "import autograd.numpy as np\n",
        "from autograd import grad"
      ],
      "execution_count": null,
      "outputs": []
    },
    {
      "cell_type": "markdown",
      "metadata": {
        "id": "hE1N3SKE92a0"
      },
      "source": [
        "###defining the sigmoid function"
      ]
    },
    {
      "cell_type": "code",
      "metadata": {
        "id": "JpwmJ1bz-jeW"
      },
      "source": [
        "def sigmoid (x):\n",
        "    return 1/(1 + np.exp(-x))"
      ],
      "execution_count": null,
      "outputs": []
    },
    {
      "cell_type": "code",
      "metadata": {
        "id": "sas-xw1z-nQx"
      },
      "source": [
        "def logistic_predictions(weights, inputs):\n",
        "      return sigmoid(np.dot(inputs, weights))"
      ],
      "execution_count": null,
      "outputs": []
    },
    {
      "cell_type": "code",
      "metadata": {
        "id": "3qqHsQzC-twh"
      },
      "source": [
        "def training_loss(weights):\n",
        "    preds = logistic_predictions(weights, inputs)\n",
        "    label_probabilities = preds * targets + (1 - preds) * (1 - targets)\n",
        "    return -np.sum(np.log(label_probabilities))"
      ],
      "execution_count": null,
      "outputs": []
    },
    {
      "cell_type": "code",
      "metadata": {
        "id": "pg79TpEE-5NA"
      },
      "source": [
        "inputs = np.array([[0.52, 1.12,  0.77],\n",
        "                   [0.88, -1.08, 0.15],\n",
        "                   [0.52, 0.06, -1.30],\n",
        "                   [0.74, -2.49, 1.39]])\n",
        "targets = np.array([1, 1, 0, 1])"
      ],
      "execution_count": null,
      "outputs": []
    },
    {
      "cell_type": "code",
      "metadata": {
        "id": "y5ZOnaAo-7cU"
      },
      "source": [
        "training_gradient_fun = grad(training_loss)"
      ],
      "execution_count": null,
      "outputs": []
    },
    {
      "cell_type": "code",
      "metadata": {
        "id": "TR4aFBJ--_oZ",
        "colab": {
          "base_uri": "https://localhost:8080/"
        },
        "outputId": "011644f4-25a4-426b-e9c0-0afe5c905d94"
      },
      "source": [
        "weights = np.array([0.0, 0.0, 0.0])\n",
        "print(\"Initial loss:\", training_loss(weights))\n",
        "for i in range(100):\n",
        "    weights -= training_gradient_fun(weights) * 0.01\n",
        "\n",
        "print(\"Trained loss:\", training_loss(weights))"
      ],
      "execution_count": null,
      "outputs": [
        {
          "output_type": "stream",
          "text": [
            "Initial loss: 2.772588722239781\n",
            "Trained loss: 1.0672706757870165\n"
          ],
          "name": "stdout"
        }
      ]
    },
    {
      "cell_type": "markdown",
      "metadata": {
        "id": "Y6sD10WcUluL"
      },
      "source": [
        "#Example of a neural network"
      ]
    },
    {
      "cell_type": "code",
      "metadata": {
        "id": "2WF-pofvUsSh"
      },
      "source": [
        "import torch \n",
        "import torch.nn as nn"
      ],
      "execution_count": null,
      "outputs": []
    },
    {
      "cell_type": "markdown",
      "metadata": {
        "id": "OiLhOY-gsV4r"
      },
      "source": [
        "###import torch\n",
        "Pytorch is a python-based scientific computing package. \n",
        "[Tutorial on pytorch](https://pytorch.org/tutorials/beginner/deep_learning_60min_blitz.html)\n",
        "###import torch.nn\n",
        "Pytorch provides teh torch.nn module to help us in creating and training the neural network"
      ]
    },
    {
      "cell_type": "markdown",
      "metadata": {
        "id": "4BF0oCNQwn73"
      },
      "source": [
        "Defining the input size, hidden layer size, output size and batch size "
      ]
    },
    {
      "cell_type": "code",
      "metadata": {
        "id": "KqxI_88lUvzX"
      },
      "source": [
        "n_in, n_h, n_out = 10, 5, 1"
      ],
      "execution_count": null,
      "outputs": []
    },
    {
      "cell_type": "markdown",
      "metadata": {
        "id": "UlR5Uwo4xN8b"
      },
      "source": [
        ""
      ]
    },
    {
      "cell_type": "code",
      "metadata": {
        "id": "BbW2ATVRYFq9"
      },
      "source": [
        "x = torch.randn(10, n_in)\n",
        "y = torch.tensor([[1.0], [0.0], [0.0], \n",
        "[1.0], [1.0], [1.0], [0.0], [0.0], [1.0], [1.0]])"
      ],
      "execution_count": null,
      "outputs": []
    },
    {
      "cell_type": "markdown",
      "metadata": {
        "id": "mcf3YL9e1fVn"
      },
      "source": [
        "###Let's build the model\n",
        "the model will have an input layer followed by a linear layer, followed by a reLU layer followed by a linear layer and finally a sigmoid layer\n",
        "###nn.Linear\n",
        "CLASS torch.nn.Linear(in_features, out_features, bias=True)\n",
        "\n",
        "Applies a linear transformation to the incoming data: y = x*W^T + b\n",
        "\n",
        "Parameters:\n",
        "\n",
        "in_features – size of each input sample (i.e. size of x)\n",
        "out_features – size of each output sample (i.e. size of y)\n",
        "bias – If set to False, the layer will not learn an additive bias. Default: True\n",
        "This will create a weight matrix and bias vector randomly"
      ]
    },
    {
      "cell_type": "markdown",
      "metadata": {
        "id": "hhFsyml_2Yzw"
      },
      "source": [
        "![image.png](data:image/png;base64,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)"
      ]
    },
    {
      "cell_type": "markdown",
      "metadata": {
        "id": "01IzbpIM2bF_"
      },
      "source": [
        "###nn.reLU()\n",
        "as per relu function’s definition, It keeps the positive numbers as the number itself and it for negative number, it returns 0.\n"
      ]
    },
    {
      "cell_type": "markdown",
      "metadata": {
        "id": "SuKGgOUM7nDD"
      },
      "source": [
        "###nn.Sigmoid()\n",
        "![image.png](data:image/png;base64,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)"
      ]
    },
    {
      "cell_type": "code",
      "metadata": {
        "id": "qO8AElnSW6gO"
      },
      "source": [
        "model = nn.Sequential(nn.Linear(n_in, n_h),\n",
        "                     nn.ReLU(),\n",
        "                     nn.Linear(n_h, n_out),\n",
        "                     nn.Sigmoid())"
      ],
      "execution_count": null,
      "outputs": []
    },
    {
      "cell_type": "markdown",
      "metadata": {
        "id": "fmN0Wd778ADK"
      },
      "source": [
        "###torch.nn.MSELoss()\n",
        "![image.png](data:image/png;base64,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)"
      ]
    },
    {
      "cell_type": "code",
      "metadata": {
        "id": "qffPquEsW8Pl"
      },
      "source": [
        "criterion = torch.nn.MSELoss()"
      ],
      "execution_count": null,
      "outputs": []
    },
    {
      "cell_type": "markdown",
      "metadata": {
        "id": "wF-NuPml_ZnU"
      },
      "source": [
        "torch.optim is a PyTorch package containing various optimization algorithms."
      ]
    },
    {
      "cell_type": "code",
      "metadata": {
        "id": "BdBlMfzMW-bg"
      },
      "source": [
        "optimizer = torch.optim.SGD(model.parameters(), lr = 0.01)"
      ],
      "execution_count": null,
      "outputs": []
    },
    {
      "cell_type": "code",
      "metadata": {
        "id": "ajZ_4bW0gCvt"
      },
      "source": [
        "losses_nn=[]"
      ],
      "execution_count": null,
      "outputs": []
    },
    {
      "cell_type": "code",
      "metadata": {
        "id": "ZBSFnhbTXBqL",
        "colab": {
          "base_uri": "https://localhost:8080/"
        },
        "outputId": "2a72fc44-b0ed-43f5-e974-209001e94308"
      },
      "source": [
        "for epoch in range(1000):\n",
        "   y_pred = model(x)\n",
        "   loss = criterion(y_pred, y)\n",
        "   if epoch%100 == 0:\n",
        "     losses_nn.append(loss.item())\n",
        "     print('epoch: ', epoch,' loss: ', loss.item())\n",
        "     \n",
        "   optimizer.zero_grad()\n",
        "   loss.backward()\n",
        "   optimizer.step()\n",
        "\n"
      ],
      "execution_count": null,
      "outputs": [
        {
          "output_type": "stream",
          "text": [
            "epoch:  0  loss:  0.2416032999753952\n",
            "epoch:  100  loss:  0.23129284381866455\n",
            "epoch:  200  loss:  0.2222171276807785\n",
            "epoch:  300  loss:  0.21272090077400208\n",
            "epoch:  400  loss:  0.2024131566286087\n",
            "epoch:  500  loss:  0.19134442508220673\n",
            "epoch:  600  loss:  0.18075114488601685\n",
            "epoch:  700  loss:  0.17063923180103302\n",
            "epoch:  800  loss:  0.16015087068080902\n",
            "epoch:  900  loss:  0.15010419487953186\n"
          ],
          "name": "stdout"
        }
      ]
    },
    {
      "cell_type": "code",
      "metadata": {
        "colab": {
          "base_uri": "https://localhost:8080/"
        },
        "id": "pROu2Py_g5SP",
        "outputId": "9e9c7f7d-de94-4e0f-d6f1-73714f744263"
      },
      "source": [
        "losses_nn"
      ],
      "execution_count": null,
      "outputs": [
        {
          "output_type": "execute_result",
          "data": {
            "text/plain": [
              "[0.2416032999753952,\n",
              " 0.23129284381866455,\n",
              " 0.2222171276807785,\n",
              " 0.21272090077400208,\n",
              " 0.2024131566286087,\n",
              " 0.19134442508220673,\n",
              " 0.18075114488601685,\n",
              " 0.17063923180103302,\n",
              " 0.16015087068080902,\n",
              " 0.15010419487953186]"
            ]
          },
          "metadata": {
            "tags": []
          },
          "execution_count": 78
        }
      ]
    },
    {
      "cell_type": "code",
      "metadata": {
        "colab": {
          "base_uri": "https://localhost:8080/",
          "height": 282
        },
        "id": "YTDtKAkeg8pc",
        "outputId": "8823c6ae-9100-4320-b4c9-e367676f6d72"
      },
      "source": [
        "plt.plot(losses_nn)"
      ],
      "execution_count": null,
      "outputs": [
        {
          "output_type": "execute_result",
          "data": {
            "text/plain": [
              "[<matplotlib.lines.Line2D at 0x7f265cf11f90>]"
            ]
          },
          "metadata": {
            "tags": []
          },
          "execution_count": 79
        },
        {
          "output_type": "display_data",
          "data": {
            "image/png": "[encoded data removed]",
            "text/plain": [
              "<Figure size 432x288 with 1 Axes>"
            ]
          },
          "metadata": {
            "tags": [],
            "needs_background": "light"
          }
        }
      ]
    }
  ]
}